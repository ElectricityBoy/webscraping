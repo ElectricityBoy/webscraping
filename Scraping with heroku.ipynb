{
 "cells": [
  {
   "cell_type": "markdown",
   "source": [
    "Importando bibliotecas necessárias para fazer o webscraping"
   ],
   "metadata": {}
  },
  {
   "cell_type": "code",
   "execution_count": 1,
   "source": [
    "from selenium import webdriver\r\n",
    "import requests"
   ],
   "outputs": [],
   "metadata": {}
  },
  {
   "cell_type": "markdown",
   "source": [
    "Inserindo o endereço do chromedriver para usar o navegador Google Chrome"
   ],
   "metadata": {}
  },
  {
   "cell_type": "code",
   "execution_count": 2,
   "source": [
    "PATH = \"C:\\Program Files (x86)\\chromedriver.exe\""
   ],
   "outputs": [],
   "metadata": {}
  },
  {
   "cell_type": "markdown",
   "source": [
    "Configurando o webdriver através do ChromeOptions e alterando o local padrão de download do diretório no preferences "
   ],
   "metadata": {}
  },
  {
   "cell_type": "code",
   "execution_count": 3,
   "source": [
    "chromeOptions = webdriver.ChromeOptions()\r\n",
    "prefs = {\"download.default_directory\": r\"C:\\Users\\elder\\Desktop\\Python\\ArtIEEEficiais\\CovidPrediction\\Web Scraping\"}\r\n",
    "chromeOptions.add_experimental_option(\"prefs\",prefs)"
   ],
   "outputs": [],
   "metadata": {}
  },
  {
   "cell_type": "markdown",
   "source": [
    "Executando o webdriver indicando as suas configurações e caminho do chromedriver.exe"
   ],
   "metadata": {}
  },
  {
   "cell_type": "code",
   "execution_count": 4,
   "source": [
    "driver = webdriver.Chrome(executable_path = PATH,options= chromeOptions )"
   ],
   "outputs": [],
   "metadata": {}
  },
  {
   "cell_type": "markdown",
   "source": [
    "Informando ao programa qual site ele deve carregar no navegador"
   ],
   "metadata": {}
  },
  {
   "cell_type": "code",
   "execution_count": 5,
   "source": [
    "driver.get(\"https://ftp.sei.ba.gov.br/covid19/\")"
   ],
   "outputs": [],
   "metadata": {}
  },
  {
   "cell_type": "markdown",
   "source": [
    "Imprimindo o título da página para ver se realmente está funcioando"
   ],
   "metadata": {}
  },
  {
   "cell_type": "code",
   "execution_count": 6,
   "source": [
    "print(driver.title)"
   ],
   "outputs": [
    {
     "output_type": "stream",
     "name": "stdout",
     "text": [
      "ftp.sei.ba.gov.br - /covid19/\n"
     ]
    }
   ],
   "metadata": {}
  },
  {
   "cell_type": "markdown",
   "source": [
    "Indicando através do Xpath o hyperlink da página para realizar o download do arquivo"
   ],
   "metadata": {}
  },
  {
   "cell_type": "code",
   "execution_count": 7,
   "source": [
    "driver.find_element_by_xpath('/html/body/pre/a[3]').click()"
   ],
   "outputs": [],
   "metadata": {}
  },
  {
   "cell_type": "code",
   "execution_count": null,
   "source": [],
   "outputs": [],
   "metadata": {}
  }
 ],
 "metadata": {
  "kernelspec": {
   "display_name": "Python 3 (ipykernel)",
   "language": "python",
   "name": "python3"
  },
  "language_info": {
   "codemirror_mode": {
    "name": "ipython",
    "version": 3
   },
   "file_extension": ".py",
   "mimetype": "text/x-python",
   "name": "python",
   "nbconvert_exporter": "python",
   "pygments_lexer": "ipython3",
   "version": "3.9.5"
  }
 },
 "nbformat": 4,
 "nbformat_minor": 5
}
{
 "cells": [
  {
   "cell_type": "code",
   "execution_count": null,
   "id": "7b99242d",
   "metadata": {},
   "outputs": [],
   "source": []
  },
  {
   "cell_type": "code",
   "execution_count": 4,
   "id": "11276c95",
   "metadata": {},
   "outputs": [],
   "source": [
    "from urllib.request import urlopen\n",
    "from bs4 import BeautifulSoup"
   ]
  },
  {
   "cell_type": "code",
   "execution_count": 21,
   "id": "d0eee5d4",
   "metadata": {},
   "outputs": [],
   "source": [
    "html = urlopen(\"https://ftp.sei.ba.gov.br/covid19/\")\n",
    "bs = BeautifulSoup(html, 'html.parser')"
   ]
  },
  {
   "cell_type": "code",
   "execution_count": 41,
   "id": "a3f5c4a0",
   "metadata": {},
   "outputs": [
    {
     "name": "stdout",
     "output_type": "stream",
     "text": [
      "/\n",
      "/covid19/comorbidades_obitos_BA.csv\n",
      "/covid19/fxetaria_casos_confirmados_BA.csv\n",
      "/covid19/fxetaria_obito_BA.csv\n",
      "/covid19/informacoes_covid_municipios_BA.csv\n",
      "/covid19/ocupacao_leitos_BA.csv\n",
      "/covid19/ocupacao_leitos_macrorregiao.csv\n",
      "/covid19/serie_casos_covid19_BA.csv\n",
      "/covid19/serie_covid_BA_Municipios.csv\n",
      "/covid19/serie_covid_BA_NRS.csv\n",
      "/covid19/serie_ocupacao_leitos_BA.csv\n",
      "/covid19/serie_ocupacao_leitos_NRS.csv\n",
      "/covid19/sexo_casos_confirmados_BA.csv\n",
      "/covid19/situacao_casos_confirmados_BA.csv\n",
      "/covid19/situacao_casos_notificados_BA.csv\n",
      "/covid19/WesleyCota.csv\n"
     ]
    }
   ],
   "source": [
    "for link in bs.find_all('a'):\n",
    "    print(link.get('href'))"
   ]
  }
 ],
 "metadata": {
  "kernelspec": {
   "display_name": "Python 3 (ipykernel)",
   "language": "python",
   "name": "python3"
  },
  "language_info": {
   "codemirror_mode": {
    "name": "ipython",
    "version": 3
   },
   "file_extension": ".py",
   "mimetype": "text/x-python",
   "name": "python",
   "nbconvert_exporter": "python",
   "pygments_lexer": "ipython3",
   "version": "3.9.5"
  }
 },
 "nbformat": 4,
 "nbformat_minor": 5
}
